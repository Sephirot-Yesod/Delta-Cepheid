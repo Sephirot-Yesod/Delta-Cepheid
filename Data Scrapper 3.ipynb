{
 "cells": [
  {
   "cell_type": "code",
   "execution_count": null,
   "id": "ec6394c4-b200-4902-a554-90db6df3bb4a",
   "metadata": {},
   "outputs": [],
   "source": [
    "#!/usr/bin/env python3\n",
    "\n",
    "import requests\n",
    "from bs4 import BeautifulSoup\n",
    "import pandas as pd\n",
    "from datetime import datetime\n",
    "from dateutil.parser import parse\n",
    "\n",
    "keys = [ \"Star\", \"JD\", \"Calendar Date\", \"Magnitude\", \"Error\", \"Filter\", \"Observer\", \"Expand\" ]\n",
    "\n",
    "def parse_row(value: str) -> map:\n",
    "    data = {}\n",
    "    cols = value.split(\"\\n\")[2:-2]\n",
    "\n",
    "    for k in range(len(cols)):\n",
    "        data[keys[k]] = cols[k]\n",
    "    \n",
    "    return data\n",
    "\n",
    "def parse_page(url: str) -> list:\n",
    "    page = requests.get(url)\n",
    "    soup = BeautifulSoup(page.text, 'lxml')\n",
    "    table = soup.find_all(\"table\", {\"class\": \"observations\"})[0]\n",
    "    even_row_values = table.find_all(\"tr\", {\"class\": \"obs tr-even\"})\n",
    "    odd_row_values = table.find_all(\"tr\", {\"class\": \"obs tr-odd\"})\n",
    "    contents = []\n",
    "\n",
    "    for row in even_row_values:\n",
    "        contents.append(parse_row(row.text))\n",
    "\n",
    "    for row in odd_row_values:\n",
    "        contents.append(parse_row(row.text))\n",
    "    \n",
    "    return contents\n",
    "\n",
    "data = []\n",
    "\n",
    "# 315 total pages of https://app.aavso.org/webobs/results/?star=000-BCQ-471&num_results=200&page=PAGE_NUM\n",
    "for i in range(1, 316):\n",
    "    url = f\"https://app.aavso.org/webobs/results/?star=000-BCQ-471&num_results=200&page={i}\"\n",
    "\n",
    "    tmp = parse_page(url)\n",
    "\n",
    "    data.extend(tmp)\n",
    "    \n",
    "for x in data:\n",
    "    date = x[\"Calendar Date\"][:x[\"Calendar Date\"].rfind(\".\")]\n",
    "    date = datetime.strptime(date, \"%Y %b. %d\").strftime(\"%d/%m/%Y\")\n",
    "    x[\"Calendar Date\"] = date\n",
    "\n",
    "data.sort(key=lambda x : datetime.strptime(x[\"Calendar Date\"], \"%d/%m/%Y\"))\n",
    "\n",
    "data = data[::-1]"
   ]
  },
  {
   "cell_type": "code",
   "execution_count": 2,
   "id": "d158341c-b5ac-43b2-9c42-9f68f6b6027c",
   "metadata": {},
   "outputs": [],
   "source": [
    "keys = [ \"Star\", \"JD\", \"Calendar Date\", \"Magnitude\", \"Error\", \"Filter\", \"Observer\", \"Expand\" ]\n",
    "\n",
    "def parse_row(value: str) -> map:\n",
    "    data = {}\n",
    "    cols = value.split(\"\\n\")[2:-2]\n",
    "\n",
    "    for k in range(len(cols)):\n",
    "        data[keys[k]] = cols[k]\n",
    "    \n",
    "    return data"
   ]
  },
  {
   "cell_type": "code",
   "execution_count": 3,
   "id": "14208380-0ec9-49d6-9046-f09eb388c512",
   "metadata": {},
   "outputs": [],
   "source": [
    "def parse_page(url: str) -> list:\n",
    "    page = requests.get(url)\n",
    "    soup = BeautifulSoup(page.text, 'lxml')\n",
    "    table = soup.find_all(\"table\", {\"class\": \"observations\"})[0]\n",
    "    even_row_values = table.find_all(\"tr\", {\"class\": \"obs tr-even\"})\n",
    "    odd_row_values = table.find_all(\"tr\", {\"class\": \"obs tr-odd\"})\n",
    "    contents = []\n",
    "\n",
    "    for row in even_row_values:\n",
    "        contents.append(parse_row(row.text))\n",
    "\n",
    "    for row in odd_row_values:\n",
    "        contents.append(parse_row(row.text))\n",
    "    \n",
    "    return contents"
   ]
  },
  {
   "cell_type": "code",
   "execution_count": 5,
   "id": "9b6d4d81-8d71-48f7-969f-3dfe3da2264d",
   "metadata": {},
   "outputs": [
    {
     "ename": "FeatureNotFound",
     "evalue": "Couldn't find a tree builder with the features you requested: lxml. Do you need to install a parser library?",
     "output_type": "error",
     "traceback": [
      "\u001b[0;31m---------------------------------------------------------------------------\u001b[0m",
      "\u001b[0;31mFeatureNotFound\u001b[0m                           Traceback (most recent call last)",
      "Cell \u001b[0;32mIn[5], line 7\u001b[0m\n\u001b[1;32m      4\u001b[0m \u001b[38;5;28;01mfor\u001b[39;00m i \u001b[38;5;129;01min\u001b[39;00m \u001b[38;5;28mrange\u001b[39m(\u001b[38;5;241m1\u001b[39m, \u001b[38;5;241m316\u001b[39m):\n\u001b[1;32m      5\u001b[0m     url \u001b[38;5;241m=\u001b[39m \u001b[38;5;124mf\u001b[39m\u001b[38;5;124m\"\u001b[39m\u001b[38;5;124mhttps://app.aavso.org/webobs/results/?star=000-BCQ-471&num_results=200&page=\u001b[39m\u001b[38;5;132;01m{\u001b[39;00mi\u001b[38;5;132;01m}\u001b[39;00m\u001b[38;5;124m\"\u001b[39m\n\u001b[0;32m----> 7\u001b[0m     tmp \u001b[38;5;241m=\u001b[39m \u001b[43mparse_page\u001b[49m\u001b[43m(\u001b[49m\u001b[43murl\u001b[49m\u001b[43m)\u001b[49m\n\u001b[1;32m      9\u001b[0m     data\u001b[38;5;241m.\u001b[39mextend(tmp)\n",
      "Cell \u001b[0;32mIn[3], line 3\u001b[0m, in \u001b[0;36mparse_page\u001b[0;34m(url)\u001b[0m\n\u001b[1;32m      1\u001b[0m \u001b[38;5;28;01mdef\u001b[39;00m \u001b[38;5;21mparse_page\u001b[39m(url: \u001b[38;5;28mstr\u001b[39m) \u001b[38;5;241m-\u001b[39m\u001b[38;5;241m>\u001b[39m \u001b[38;5;28mlist\u001b[39m:\n\u001b[1;32m      2\u001b[0m     page \u001b[38;5;241m=\u001b[39m requests\u001b[38;5;241m.\u001b[39mget(url)\n\u001b[0;32m----> 3\u001b[0m     soup \u001b[38;5;241m=\u001b[39m \u001b[43mBeautifulSoup\u001b[49m\u001b[43m(\u001b[49m\u001b[43mpage\u001b[49m\u001b[38;5;241;43m.\u001b[39;49m\u001b[43mtext\u001b[49m\u001b[43m,\u001b[49m\u001b[43m \u001b[49m\u001b[38;5;124;43m'\u001b[39;49m\u001b[38;5;124;43mlxml\u001b[39;49m\u001b[38;5;124;43m'\u001b[39;49m\u001b[43m)\u001b[49m\n\u001b[1;32m      4\u001b[0m     table \u001b[38;5;241m=\u001b[39m soup\u001b[38;5;241m.\u001b[39mfind_all(\u001b[38;5;124m\"\u001b[39m\u001b[38;5;124mtable\u001b[39m\u001b[38;5;124m\"\u001b[39m, {\u001b[38;5;124m\"\u001b[39m\u001b[38;5;124mclass\u001b[39m\u001b[38;5;124m\"\u001b[39m: \u001b[38;5;124m\"\u001b[39m\u001b[38;5;124mobservations\u001b[39m\u001b[38;5;124m\"\u001b[39m})[\u001b[38;5;241m0\u001b[39m]\n\u001b[1;32m      5\u001b[0m     even_row_values \u001b[38;5;241m=\u001b[39m table\u001b[38;5;241m.\u001b[39mfind_all(\u001b[38;5;124m\"\u001b[39m\u001b[38;5;124mtr\u001b[39m\u001b[38;5;124m\"\u001b[39m, {\u001b[38;5;124m\"\u001b[39m\u001b[38;5;124mclass\u001b[39m\u001b[38;5;124m\"\u001b[39m: \u001b[38;5;124m\"\u001b[39m\u001b[38;5;124mobs tr-even\u001b[39m\u001b[38;5;124m\"\u001b[39m})\n",
      "File \u001b[0;32m/Library/Frameworks/Python.framework/Versions/3.10/lib/python3.10/site-packages/bs4/__init__.py:248\u001b[0m, in \u001b[0;36mBeautifulSoup.__init__\u001b[0;34m(self, markup, features, builder, parse_only, from_encoding, exclude_encodings, element_classes, **kwargs)\u001b[0m\n\u001b[1;32m    246\u001b[0m     builder_class \u001b[38;5;241m=\u001b[39m builder_registry\u001b[38;5;241m.\u001b[39mlookup(\u001b[38;5;241m*\u001b[39mfeatures)\n\u001b[1;32m    247\u001b[0m     \u001b[38;5;28;01mif\u001b[39;00m builder_class \u001b[38;5;129;01mis\u001b[39;00m \u001b[38;5;28;01mNone\u001b[39;00m:\n\u001b[0;32m--> 248\u001b[0m         \u001b[38;5;28;01mraise\u001b[39;00m FeatureNotFound(\n\u001b[1;32m    249\u001b[0m             \u001b[38;5;124m\"\u001b[39m\u001b[38;5;124mCouldn\u001b[39m\u001b[38;5;124m'\u001b[39m\u001b[38;5;124mt find a tree builder with the features you \u001b[39m\u001b[38;5;124m\"\u001b[39m\n\u001b[1;32m    250\u001b[0m             \u001b[38;5;124m\"\u001b[39m\u001b[38;5;124mrequested: \u001b[39m\u001b[38;5;132;01m%s\u001b[39;00m\u001b[38;5;124m. Do you need to install a parser library?\u001b[39m\u001b[38;5;124m\"\u001b[39m\n\u001b[1;32m    251\u001b[0m             \u001b[38;5;241m%\u001b[39m \u001b[38;5;124m\"\u001b[39m\u001b[38;5;124m,\u001b[39m\u001b[38;5;124m\"\u001b[39m\u001b[38;5;241m.\u001b[39mjoin(features))\n\u001b[1;32m    253\u001b[0m \u001b[38;5;66;03m# At this point either we have a TreeBuilder instance in\u001b[39;00m\n\u001b[1;32m    254\u001b[0m \u001b[38;5;66;03m# builder, or we have a builder_class that we can instantiate\u001b[39;00m\n\u001b[1;32m    255\u001b[0m \u001b[38;5;66;03m# with the remaining **kwargs.\u001b[39;00m\n\u001b[1;32m    256\u001b[0m \u001b[38;5;28;01mif\u001b[39;00m builder \u001b[38;5;129;01mis\u001b[39;00m \u001b[38;5;28;01mNone\u001b[39;00m:\n",
      "\u001b[0;31mFeatureNotFound\u001b[0m: Couldn't find a tree builder with the features you requested: lxml. Do you need to install a parser library?"
     ]
    }
   ],
   "source": [
    "data = []\n",
    "\n",
    "# 315 total pages of https://app.aavso.org/webobs/results/?star=000-BCQ-471&num_results=200&page=PAGE_NUM\n",
    "for i in range(1, 316):\n",
    "    url = f\"https://app.aavso.org/webobs/results/?star=000-BCQ-471&num_results=200&page={i}\"\n",
    "\n",
    "    tmp = parse_page(url)\n",
    "\n",
    "    data.extend(tmp)"
   ]
  },
  {
   "cell_type": "code",
   "execution_count": 64,
   "id": "c8c35195-d275-4969-830a-5028a78d4f87",
   "metadata": {},
   "outputs": [],
   "source": [
    "for x in data:\n",
    "    date = x[\"Calendar Date\"][:x[\"Calendar Date\"].rfind(\".\")]\n",
    "    date = datetime.strptime(date, \"%Y %b. %d\").strftime(\"%d/%m/%Y\")\n",
    "    x[\"Calendar Date\"] = date"
   ]
  },
  {
   "cell_type": "code",
   "execution_count": 74,
   "id": "540dd12c-1f31-4ce8-b428-11cc9c875cff",
   "metadata": {},
   "outputs": [],
   "source": [
    "data.sort(key=lambda x : datetime.strptime(x[\"Calendar Date\"], \"%d/%m/%Y\"))"
   ]
  },
  {
   "cell_type": "code",
   "execution_count": 77,
   "id": "575c23e5-2808-4a2c-a5ac-42e57dc26697",
   "metadata": {},
   "outputs": [],
   "source": [
    "data = data[::-1]"
   ]
  }
 ],
 "metadata": {
  "kernelspec": {
   "display_name": "Python 3 (ipykernel)",
   "language": "python",
   "name": "python3"
  },
  "language_info": {
   "codemirror_mode": {
    "name": "ipython",
    "version": 3
   },
   "file_extension": ".py",
   "mimetype": "text/x-python",
   "name": "python",
   "nbconvert_exporter": "python",
   "pygments_lexer": "ipython3",
   "version": "3.10.7"
  }
 },
 "nbformat": 4,
 "nbformat_minor": 5
}
